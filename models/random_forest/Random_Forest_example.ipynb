{
 "cells": [
  {
   "cell_type": "code",
   "execution_count": 3,
   "metadata": {},
   "outputs": [],
   "source": [
    "import numpy as np"
   ]
  },
  {
   "cell_type": "code",
   "execution_count": 4,
   "metadata": {},
   "outputs": [
    {
     "data": {
      "text/plain": [
       "array([1, 2, 3])"
      ]
     },
     "execution_count": 4,
     "metadata": {},
     "output_type": "execute_result"
    }
   ],
   "source": [
    "np.array([1,2,3])"
   ]
  },
  {
   "cell_type": "code",
   "execution_count": 5,
   "metadata": {},
   "outputs": [],
   "source": [
    "import pandas as p"
   ]
  },
  {
   "cell_type": "code",
   "execution_count": 6,
   "metadata": {},
   "outputs": [],
   "source": [
    "features= p.read_csv('/Users/vikakumar/Desktop/test_ml_ola.csv')"
   ]
  },
  {
   "cell_type": "code",
   "execution_count": 7,
   "metadata": {},
   "outputs": [],
   "source": [
    "import xgboost as xg"
   ]
  },
  {
   "cell_type": "code",
   "execution_count": 8,
   "metadata": {},
   "outputs": [],
   "source": [
    "from sklearn import datasets"
   ]
  },
  {
   "cell_type": "code",
   "execution_count": 9,
   "metadata": {},
   "outputs": [],
   "source": [
    "from sklearn.model_selection import train_test_split"
   ]
  },
  {
   "cell_type": "code",
   "execution_count": 10,
   "metadata": {},
   "outputs": [
    {
     "data": {
      "text/html": [
       "<div>\n",
       "<style scoped>\n",
       "    .dataframe tbody tr th:only-of-type {\n",
       "        vertical-align: middle;\n",
       "    }\n",
       "\n",
       "    .dataframe tbody tr th {\n",
       "        vertical-align: top;\n",
       "    }\n",
       "\n",
       "    .dataframe thead th {\n",
       "        text-align: right;\n",
       "    }\n",
       "</style>\n",
       "<table border=\"1\" class=\"dataframe\">\n",
       "  <thead>\n",
       "    <tr style=\"text-align: right;\">\n",
       "      <th></th>\n",
       "      <th>UserId</th>\n",
       "      <th>Order</th>\n",
       "      <th>Rating</th>\n",
       "      <th>ETA</th>\n",
       "      <th>Address_long</th>\n",
       "      <th>Address_lat</th>\n",
       "      <th>Destination_long</th>\n",
       "      <th>Destination_lat</th>\n",
       "      <th>IsHomeHeading</th>\n",
       "      <th>IsOnOtherTrip</th>\n",
       "      <th>DriverId</th>\n",
       "    </tr>\n",
       "  </thead>\n",
       "  <tbody>\n",
       "    <tr>\n",
       "      <td>count</td>\n",
       "      <td>500.000000</td>\n",
       "      <td>500.00000</td>\n",
       "      <td>500.000000</td>\n",
       "      <td>500.000000</td>\n",
       "      <td>500.000000</td>\n",
       "      <td>500.000000</td>\n",
       "      <td>500.000000</td>\n",
       "      <td>500.000000</td>\n",
       "      <td>500.0000</td>\n",
       "      <td>500.000000</td>\n",
       "      <td>500.000000</td>\n",
       "    </tr>\n",
       "    <tr>\n",
       "      <td>mean</td>\n",
       "      <td>50.500000</td>\n",
       "      <td>3.00000</td>\n",
       "      <td>2.972401</td>\n",
       "      <td>43.670562</td>\n",
       "      <td>43.625379</td>\n",
       "      <td>44.470341</td>\n",
       "      <td>43.542779</td>\n",
       "      <td>0.510000</td>\n",
       "      <td>0.4800</td>\n",
       "      <td>0.536000</td>\n",
       "      <td>27434.000000</td>\n",
       "    </tr>\n",
       "    <tr>\n",
       "      <td>std</td>\n",
       "      <td>28.894979</td>\n",
       "      <td>1.41563</td>\n",
       "      <td>1.187639</td>\n",
       "      <td>25.243204</td>\n",
       "      <td>24.563276</td>\n",
       "      <td>25.166625</td>\n",
       "      <td>24.632295</td>\n",
       "      <td>0.500401</td>\n",
       "      <td>0.5001</td>\n",
       "      <td>0.499202</td>\n",
       "      <td>48281.487613</td>\n",
       "    </tr>\n",
       "    <tr>\n",
       "      <td>min</td>\n",
       "      <td>1.000000</td>\n",
       "      <td>1.00000</td>\n",
       "      <td>1.004544</td>\n",
       "      <td>0.694558</td>\n",
       "      <td>1.068666</td>\n",
       "      <td>0.795767</td>\n",
       "      <td>0.787326</td>\n",
       "      <td>0.000000</td>\n",
       "      <td>0.0000</td>\n",
       "      <td>0.000000</td>\n",
       "      <td>12.000000</td>\n",
       "    </tr>\n",
       "    <tr>\n",
       "      <td>25%</td>\n",
       "      <td>25.750000</td>\n",
       "      <td>2.00000</td>\n",
       "      <td>1.859763</td>\n",
       "      <td>21.562357</td>\n",
       "      <td>23.124494</td>\n",
       "      <td>22.534870</td>\n",
       "      <td>22.429746</td>\n",
       "      <td>0.000000</td>\n",
       "      <td>0.0000</td>\n",
       "      <td>0.000000</td>\n",
       "      <td>123.000000</td>\n",
       "    </tr>\n",
       "    <tr>\n",
       "      <td>50%</td>\n",
       "      <td>50.500000</td>\n",
       "      <td>3.00000</td>\n",
       "      <td>2.993247</td>\n",
       "      <td>42.781270</td>\n",
       "      <td>43.088816</td>\n",
       "      <td>45.627173</td>\n",
       "      <td>44.442767</td>\n",
       "      <td>1.000000</td>\n",
       "      <td>0.0000</td>\n",
       "      <td>1.000000</td>\n",
       "      <td>1234.000000</td>\n",
       "    </tr>\n",
       "    <tr>\n",
       "      <td>75%</td>\n",
       "      <td>75.250000</td>\n",
       "      <td>4.00000</td>\n",
       "      <td>3.977902</td>\n",
       "      <td>65.241733</td>\n",
       "      <td>64.243317</td>\n",
       "      <td>65.989329</td>\n",
       "      <td>64.217968</td>\n",
       "      <td>1.000000</td>\n",
       "      <td>1.0000</td>\n",
       "      <td>1.000000</td>\n",
       "      <td>12345.000000</td>\n",
       "    </tr>\n",
       "    <tr>\n",
       "      <td>max</td>\n",
       "      <td>100.000000</td>\n",
       "      <td>5.00000</td>\n",
       "      <td>4.999795</td>\n",
       "      <td>86.915361</td>\n",
       "      <td>86.977991</td>\n",
       "      <td>86.925005</td>\n",
       "      <td>86.605777</td>\n",
       "      <td>1.000000</td>\n",
       "      <td>1.0000</td>\n",
       "      <td>1.000000</td>\n",
       "      <td>123456.000000</td>\n",
       "    </tr>\n",
       "  </tbody>\n",
       "</table>\n",
       "</div>"
      ],
      "text/plain": [
       "           UserId      Order      Rating         ETA  Address_long  \\\n",
       "count  500.000000  500.00000  500.000000  500.000000    500.000000   \n",
       "mean    50.500000    3.00000    2.972401   43.670562     43.625379   \n",
       "std     28.894979    1.41563    1.187639   25.243204     24.563276   \n",
       "min      1.000000    1.00000    1.004544    0.694558      1.068666   \n",
       "25%     25.750000    2.00000    1.859763   21.562357     23.124494   \n",
       "50%     50.500000    3.00000    2.993247   42.781270     43.088816   \n",
       "75%     75.250000    4.00000    3.977902   65.241733     64.243317   \n",
       "max    100.000000    5.00000    4.999795   86.915361     86.977991   \n",
       "\n",
       "       Address_lat  Destination_long  Destination_lat  IsHomeHeading  \\\n",
       "count   500.000000        500.000000       500.000000       500.0000   \n",
       "mean     44.470341         43.542779         0.510000         0.4800   \n",
       "std      25.166625         24.632295         0.500401         0.5001   \n",
       "min       0.795767          0.787326         0.000000         0.0000   \n",
       "25%      22.534870         22.429746         0.000000         0.0000   \n",
       "50%      45.627173         44.442767         1.000000         0.0000   \n",
       "75%      65.989329         64.217968         1.000000         1.0000   \n",
       "max      86.925005         86.605777         1.000000         1.0000   \n",
       "\n",
       "       IsOnOtherTrip       DriverId  \n",
       "count     500.000000     500.000000  \n",
       "mean        0.536000   27434.000000  \n",
       "std         0.499202   48281.487613  \n",
       "min         0.000000      12.000000  \n",
       "25%         0.000000     123.000000  \n",
       "50%         1.000000    1234.000000  \n",
       "75%         1.000000   12345.000000  \n",
       "max         1.000000  123456.000000  "
      ]
     },
     "execution_count": 10,
     "metadata": {},
     "output_type": "execute_result"
    }
   ],
   "source": [
    "features.describe()"
   ]
  },
  {
   "cell_type": "code",
   "execution_count": 11,
   "metadata": {},
   "outputs": [
    {
     "data": {
      "text/html": [
       "<div>\n",
       "<style scoped>\n",
       "    .dataframe tbody tr th:only-of-type {\n",
       "        vertical-align: middle;\n",
       "    }\n",
       "\n",
       "    .dataframe tbody tr th {\n",
       "        vertical-align: top;\n",
       "    }\n",
       "\n",
       "    .dataframe thead th {\n",
       "        text-align: right;\n",
       "    }\n",
       "</style>\n",
       "<table border=\"1\" class=\"dataframe\">\n",
       "  <thead>\n",
       "    <tr style=\"text-align: right;\">\n",
       "      <th></th>\n",
       "      <th>UserId</th>\n",
       "      <th>Order</th>\n",
       "      <th>Rating</th>\n",
       "      <th>ETA</th>\n",
       "      <th>Address_long</th>\n",
       "      <th>Address_lat</th>\n",
       "      <th>Destination_long</th>\n",
       "      <th>Destination_lat</th>\n",
       "      <th>IsHomeHeading</th>\n",
       "      <th>IsOnOtherTrip</th>\n",
       "      <th>DriverId</th>\n",
       "    </tr>\n",
       "  </thead>\n",
       "  <tbody>\n",
       "    <tr>\n",
       "      <td>0</td>\n",
       "      <td>1</td>\n",
       "      <td>1</td>\n",
       "      <td>1.210885</td>\n",
       "      <td>1.003050</td>\n",
       "      <td>11.659150</td>\n",
       "      <td>85.905544</td>\n",
       "      <td>72.007237</td>\n",
       "      <td>1</td>\n",
       "      <td>0</td>\n",
       "      <td>0</td>\n",
       "      <td>123456</td>\n",
       "    </tr>\n",
       "    <tr>\n",
       "      <td>1</td>\n",
       "      <td>1</td>\n",
       "      <td>2</td>\n",
       "      <td>4.808255</td>\n",
       "      <td>27.956061</td>\n",
       "      <td>45.876339</td>\n",
       "      <td>37.600352</td>\n",
       "      <td>34.281540</td>\n",
       "      <td>0</td>\n",
       "      <td>1</td>\n",
       "      <td>0</td>\n",
       "      <td>12</td>\n",
       "    </tr>\n",
       "    <tr>\n",
       "      <td>2</td>\n",
       "      <td>1</td>\n",
       "      <td>3</td>\n",
       "      <td>1.306195</td>\n",
       "      <td>60.017717</td>\n",
       "      <td>10.378658</td>\n",
       "      <td>41.438808</td>\n",
       "      <td>60.531052</td>\n",
       "      <td>0</td>\n",
       "      <td>1</td>\n",
       "      <td>1</td>\n",
       "      <td>12345</td>\n",
       "    </tr>\n",
       "    <tr>\n",
       "      <td>3</td>\n",
       "      <td>1</td>\n",
       "      <td>4</td>\n",
       "      <td>1.060489</td>\n",
       "      <td>81.688770</td>\n",
       "      <td>77.475849</td>\n",
       "      <td>47.060443</td>\n",
       "      <td>28.999534</td>\n",
       "      <td>1</td>\n",
       "      <td>1</td>\n",
       "      <td>0</td>\n",
       "      <td>1234</td>\n",
       "    </tr>\n",
       "    <tr>\n",
       "      <td>4</td>\n",
       "      <td>1</td>\n",
       "      <td>5</td>\n",
       "      <td>2.927480</td>\n",
       "      <td>19.893642</td>\n",
       "      <td>74.658619</td>\n",
       "      <td>59.828857</td>\n",
       "      <td>1.305024</td>\n",
       "      <td>0</td>\n",
       "      <td>1</td>\n",
       "      <td>1</td>\n",
       "      <td>123</td>\n",
       "    </tr>\n",
       "  </tbody>\n",
       "</table>\n",
       "</div>"
      ],
      "text/plain": [
       "   UserId  Order    Rating        ETA  Address_long  Address_lat  \\\n",
       "0       1      1  1.210885   1.003050     11.659150    85.905544   \n",
       "1       1      2  4.808255  27.956061     45.876339    37.600352   \n",
       "2       1      3  1.306195  60.017717     10.378658    41.438808   \n",
       "3       1      4  1.060489  81.688770     77.475849    47.060443   \n",
       "4       1      5  2.927480  19.893642     74.658619    59.828857   \n",
       "\n",
       "   Destination_long  Destination_lat  IsHomeHeading  IsOnOtherTrip  DriverId  \n",
       "0         72.007237                1              0              0    123456  \n",
       "1         34.281540                0              1              0        12  \n",
       "2         60.531052                0              1              1     12345  \n",
       "3         28.999534                1              1              0      1234  \n",
       "4          1.305024                0              1              1       123  "
      ]
     },
     "execution_count": 11,
     "metadata": {},
     "output_type": "execute_result"
    }
   ],
   "source": [
    "features.head(5)"
   ]
  },
  {
   "cell_type": "code",
   "execution_count": 12,
   "metadata": {},
   "outputs": [
    {
     "data": {
      "text/plain": [
       "array([[1.00000000e+00, 1.00000000e+00, 1.21088486e+00, ...,\n",
       "        0.00000000e+00, 0.00000000e+00, 1.23456000e+05],\n",
       "       [1.00000000e+00, 2.00000000e+00, 4.80825515e+00, ...,\n",
       "        1.00000000e+00, 0.00000000e+00, 1.20000000e+01],\n",
       "       [1.00000000e+00, 3.00000000e+00, 1.30619470e+00, ...,\n",
       "        1.00000000e+00, 1.00000000e+00, 1.23450000e+04],\n",
       "       ...,\n",
       "       [1.00000000e+02, 3.00000000e+00, 1.92918650e+00, ...,\n",
       "        1.00000000e+00, 0.00000000e+00, 1.20000000e+01],\n",
       "       [1.00000000e+02, 4.00000000e+00, 1.95141169e+00, ...,\n",
       "        1.00000000e+00, 1.00000000e+00, 1.23450000e+04],\n",
       "       [1.00000000e+02, 5.00000000e+00, 3.93434053e+00, ...,\n",
       "        0.00000000e+00, 0.00000000e+00, 1.23000000e+02]])"
      ]
     },
     "execution_count": 12,
     "metadata": {},
     "output_type": "execute_result"
    }
   ],
   "source": [
    "np.array(features)"
   ]
  },
  {
   "cell_type": "code",
   "execution_count": 13,
   "metadata": {},
   "outputs": [],
   "source": [
    "labels = np.array(features['Order'])"
   ]
  },
  {
   "cell_type": "code",
   "execution_count": 14,
   "metadata": {},
   "outputs": [],
   "source": [
    "features= features.drop('Order', axis = 1)"
   ]
  },
  {
   "cell_type": "code",
   "execution_count": 15,
   "metadata": {},
   "outputs": [],
   "source": [
    "train_features, test_features, train_labels, test_labels = train_test_split(features, labels, test_size = 0.25, random_state = 42)"
   ]
  },
  {
   "cell_type": "code",
   "execution_count": 16,
   "metadata": {},
   "outputs": [
    {
     "data": {
      "text/plain": [
       "array([3, 3, 4, 2, 5, 2, 4, 1, 2, 1, 3, 3, 5, 3, 1, 2, 4, 5, 5, 4, 2, 4,\n",
       "       3, 2, 2, 1, 2, 1, 2, 3, 3, 4, 4, 1, 1, 1, 4, 4, 5, 3, 2, 2, 3, 4,\n",
       "       4, 3, 3, 5, 4, 5, 1, 4, 2, 5, 5, 1, 1, 5, 1, 5, 2, 1, 3, 1, 4, 4,\n",
       "       1, 1, 3, 5, 4, 1, 3, 3, 3, 3, 4, 1, 1, 4, 5, 4, 5, 4, 4, 1, 5, 1,\n",
       "       5, 1, 5, 5, 1, 4, 5, 3, 5, 2, 2, 5, 5, 5, 5, 2, 5, 2, 5, 2, 2, 1,\n",
       "       2, 4, 4, 1, 3, 4, 5, 5, 1, 1, 4, 2, 4, 5, 3, 5, 2, 5, 4, 3, 2, 2,\n",
       "       3, 3, 3, 3, 4, 4, 2, 4, 5, 3, 3, 3, 3, 4, 3, 2, 1, 4, 2, 2, 1, 5,\n",
       "       1, 3, 4, 4, 5, 5, 1, 5, 5, 2, 2, 1, 5, 2, 1, 3, 5, 3, 3, 3, 2, 3,\n",
       "       4, 2, 5, 2, 3, 4, 3, 1, 1, 5, 5, 3, 3, 3, 1, 2, 3, 1, 1, 4, 3, 5,\n",
       "       1, 1, 4, 1, 3, 2, 4, 5, 3, 1, 4, 1, 3, 4, 3, 2, 1, 2, 1, 5, 4, 4,\n",
       "       2, 4, 2, 2, 3, 5, 3, 5, 2, 4, 1, 2, 5, 4, 2, 4, 3, 1, 2, 3, 3, 3,\n",
       "       3, 1, 2, 3, 5, 1, 1, 4, 3, 1, 4, 3, 1, 4, 2, 4, 2, 4, 5, 1, 5, 2,\n",
       "       1, 5, 4, 4, 2, 5, 5, 1, 3, 2, 3, 3, 1, 3, 2, 4, 2, 4, 1, 5, 2, 2,\n",
       "       4, 3, 2, 1, 5, 5, 1, 4, 5, 2, 2, 3, 5, 5, 1, 1, 5, 4, 3, 2, 2, 5,\n",
       "       4, 3, 1, 5, 2, 4, 1, 4, 3, 4, 2, 4, 3, 5, 2, 1, 5, 4, 5, 4, 1, 2,\n",
       "       5, 1, 5, 2, 3, 5, 4, 4, 5, 1, 3, 2, 4, 5, 1, 2, 4, 2, 1, 4, 4, 4,\n",
       "       3, 4, 5, 1, 2, 5, 5, 3, 3, 4, 1, 5, 2, 2, 5, 1, 4, 2, 2, 1, 4, 1,\n",
       "       3])"
      ]
     },
     "execution_count": 16,
     "metadata": {},
     "output_type": "execute_result"
    }
   ],
   "source": [
    "train_labels"
   ]
  },
  {
   "cell_type": "code",
   "execution_count": 17,
   "metadata": {},
   "outputs": [],
   "source": [
    "from sklearn.ensemble import RandomForestRegressor"
   ]
  },
  {
   "cell_type": "code",
   "execution_count": 18,
   "metadata": {},
   "outputs": [],
   "source": [
    "rf = RandomForestRegressor(n_estimators = 1000, random_state = 42)"
   ]
  },
  {
   "cell_type": "code",
   "execution_count": 19,
   "metadata": {},
   "outputs": [],
   "source": [
    "rf.fit(train_features, train_labels);"
   ]
  },
  {
   "cell_type": "code",
   "execution_count": 20,
   "metadata": {},
   "outputs": [],
   "source": [
    "predictions = rf.predict(test_features)"
   ]
  },
  {
   "cell_type": "code",
   "execution_count": 21,
   "metadata": {},
   "outputs": [
    {
     "data": {
      "text/plain": [
       "array([3.296, 2.487, 2.34 , 2.437, 3.444, 3.137, 3.438, 3.058, 2.804,\n",
       "       2.902, 2.879, 2.783, 2.916, 3.261, 2.472, 2.588, 3.004, 2.475,\n",
       "       3.684, 3.085, 2.979, 3.18 , 3.564, 3.533, 2.716, 2.588, 3.028,\n",
       "       2.979, 3.362, 2.475, 2.367, 2.93 , 3.021, 2.774, 3.311, 3.348,\n",
       "       2.67 , 3.373, 2.833, 2.72 , 3.107, 2.684, 3.838, 3.296, 3.216,\n",
       "       2.622, 2.551, 3.372, 2.796, 3.085, 3.341, 2.69 , 2.902, 2.79 ,\n",
       "       2.803, 3.504, 3.154, 2.991, 2.759, 2.794, 3.175, 2.962, 3.189,\n",
       "       3.22 , 3.313, 3.527, 2.153, 3.23 , 2.72 , 2.788, 2.932, 3.055,\n",
       "       2.874, 2.588, 3.051, 3.084, 2.423, 3.5  , 3.026, 2.821, 2.957,\n",
       "       3.448, 2.981, 2.957, 2.38 , 2.794, 2.436, 3.26 , 2.958, 3.281,\n",
       "       2.948, 2.916, 3.187, 2.517, 2.812, 3.354, 2.545, 2.99 , 2.53 ,\n",
       "       3.035, 3.129, 2.829, 2.881, 3.06 , 2.905, 3.275, 3.007, 2.423,\n",
       "       3.005, 2.638, 2.836, 2.183, 2.564, 2.859, 3.093, 3.533, 2.872,\n",
       "       3.425, 3.276, 3.105, 2.996, 2.702, 2.847, 2.983, 2.78 ])"
      ]
     },
     "execution_count": 21,
     "metadata": {},
     "output_type": "execute_result"
    }
   ],
   "source": [
    "predictions"
   ]
  },
  {
   "cell_type": "code",
   "execution_count": 22,
   "metadata": {},
   "outputs": [
    {
     "data": {
      "text/html": [
       "<div>\n",
       "<style scoped>\n",
       "    .dataframe tbody tr th:only-of-type {\n",
       "        vertical-align: middle;\n",
       "    }\n",
       "\n",
       "    .dataframe tbody tr th {\n",
       "        vertical-align: top;\n",
       "    }\n",
       "\n",
       "    .dataframe thead th {\n",
       "        text-align: right;\n",
       "    }\n",
       "</style>\n",
       "<table border=\"1\" class=\"dataframe\">\n",
       "  <thead>\n",
       "    <tr style=\"text-align: right;\">\n",
       "      <th></th>\n",
       "      <th>UserId</th>\n",
       "      <th>Rating</th>\n",
       "      <th>ETA</th>\n",
       "      <th>Address_long</th>\n",
       "      <th>Address_lat</th>\n",
       "      <th>Destination_long</th>\n",
       "      <th>Destination_lat</th>\n",
       "      <th>IsHomeHeading</th>\n",
       "      <th>IsOnOtherTrip</th>\n",
       "      <th>DriverId</th>\n",
       "    </tr>\n",
       "  </thead>\n",
       "  <tbody>\n",
       "    <tr>\n",
       "      <td>361</td>\n",
       "      <td>73</td>\n",
       "      <td>2.722559</td>\n",
       "      <td>30.285010</td>\n",
       "      <td>26.512827</td>\n",
       "      <td>59.658842</td>\n",
       "      <td>22.610038</td>\n",
       "      <td>0</td>\n",
       "      <td>1</td>\n",
       "      <td>0</td>\n",
       "      <td>123456</td>\n",
       "    </tr>\n",
       "    <tr>\n",
       "      <td>73</td>\n",
       "      <td>15</td>\n",
       "      <td>1.276612</td>\n",
       "      <td>65.625720</td>\n",
       "      <td>19.624659</td>\n",
       "      <td>47.531665</td>\n",
       "      <td>74.363344</td>\n",
       "      <td>1</td>\n",
       "      <td>1</td>\n",
       "      <td>1</td>\n",
       "      <td>12</td>\n",
       "    </tr>\n",
       "    <tr>\n",
       "      <td>374</td>\n",
       "      <td>75</td>\n",
       "      <td>1.318004</td>\n",
       "      <td>76.145684</td>\n",
       "      <td>63.282971</td>\n",
       "      <td>11.510020</td>\n",
       "      <td>30.050435</td>\n",
       "      <td>1</td>\n",
       "      <td>1</td>\n",
       "      <td>0</td>\n",
       "      <td>12345</td>\n",
       "    </tr>\n",
       "    <tr>\n",
       "      <td>155</td>\n",
       "      <td>32</td>\n",
       "      <td>4.939759</td>\n",
       "      <td>41.790192</td>\n",
       "      <td>69.353336</td>\n",
       "      <td>6.545532</td>\n",
       "      <td>49.934759</td>\n",
       "      <td>1</td>\n",
       "      <td>0</td>\n",
       "      <td>1</td>\n",
       "      <td>12</td>\n",
       "    </tr>\n",
       "    <tr>\n",
       "      <td>104</td>\n",
       "      <td>21</td>\n",
       "      <td>3.523647</td>\n",
       "      <td>7.557394</td>\n",
       "      <td>72.801245</td>\n",
       "      <td>45.078059</td>\n",
       "      <td>62.361131</td>\n",
       "      <td>0</td>\n",
       "      <td>0</td>\n",
       "      <td>0</td>\n",
       "      <td>123456</td>\n",
       "    </tr>\n",
       "    <tr>\n",
       "      <td>...</td>\n",
       "      <td>...</td>\n",
       "      <td>...</td>\n",
       "      <td>...</td>\n",
       "      <td>...</td>\n",
       "      <td>...</td>\n",
       "      <td>...</td>\n",
       "      <td>...</td>\n",
       "      <td>...</td>\n",
       "      <td>...</td>\n",
       "      <td>...</td>\n",
       "    </tr>\n",
       "    <tr>\n",
       "      <td>220</td>\n",
       "      <td>45</td>\n",
       "      <td>4.155356</td>\n",
       "      <td>16.217887</td>\n",
       "      <td>25.456561</td>\n",
       "      <td>61.434418</td>\n",
       "      <td>84.090303</td>\n",
       "      <td>1</td>\n",
       "      <td>1</td>\n",
       "      <td>0</td>\n",
       "      <td>12</td>\n",
       "    </tr>\n",
       "    <tr>\n",
       "      <td>176</td>\n",
       "      <td>36</td>\n",
       "      <td>3.454523</td>\n",
       "      <td>9.488681</td>\n",
       "      <td>59.708508</td>\n",
       "      <td>75.433650</td>\n",
       "      <td>56.420673</td>\n",
       "      <td>1</td>\n",
       "      <td>1</td>\n",
       "      <td>0</td>\n",
       "      <td>12</td>\n",
       "    </tr>\n",
       "    <tr>\n",
       "      <td>320</td>\n",
       "      <td>65</td>\n",
       "      <td>1.534817</td>\n",
       "      <td>4.517420</td>\n",
       "      <td>62.250004</td>\n",
       "      <td>24.048257</td>\n",
       "      <td>69.092276</td>\n",
       "      <td>0</td>\n",
       "      <td>0</td>\n",
       "      <td>0</td>\n",
       "      <td>123456</td>\n",
       "    </tr>\n",
       "    <tr>\n",
       "      <td>153</td>\n",
       "      <td>31</td>\n",
       "      <td>4.498943</td>\n",
       "      <td>49.570034</td>\n",
       "      <td>58.999449</td>\n",
       "      <td>57.246626</td>\n",
       "      <td>61.056527</td>\n",
       "      <td>1</td>\n",
       "      <td>0</td>\n",
       "      <td>1</td>\n",
       "      <td>123</td>\n",
       "    </tr>\n",
       "    <tr>\n",
       "      <td>231</td>\n",
       "      <td>47</td>\n",
       "      <td>3.989863</td>\n",
       "      <td>20.967675</td>\n",
       "      <td>29.783904</td>\n",
       "      <td>5.816421</td>\n",
       "      <td>57.132405</td>\n",
       "      <td>0</td>\n",
       "      <td>1</td>\n",
       "      <td>0</td>\n",
       "      <td>1234</td>\n",
       "    </tr>\n",
       "  </tbody>\n",
       "</table>\n",
       "<p>125 rows × 10 columns</p>\n",
       "</div>"
      ],
      "text/plain": [
       "     UserId    Rating        ETA  Address_long  Address_lat  Destination_long  \\\n",
       "361      73  2.722559  30.285010     26.512827    59.658842         22.610038   \n",
       "73       15  1.276612  65.625720     19.624659    47.531665         74.363344   \n",
       "374      75  1.318004  76.145684     63.282971    11.510020         30.050435   \n",
       "155      32  4.939759  41.790192     69.353336     6.545532         49.934759   \n",
       "104      21  3.523647   7.557394     72.801245    45.078059         62.361131   \n",
       "..      ...       ...        ...           ...          ...               ...   \n",
       "220      45  4.155356  16.217887     25.456561    61.434418         84.090303   \n",
       "176      36  3.454523   9.488681     59.708508    75.433650         56.420673   \n",
       "320      65  1.534817   4.517420     62.250004    24.048257         69.092276   \n",
       "153      31  4.498943  49.570034     58.999449    57.246626         61.056527   \n",
       "231      47  3.989863  20.967675     29.783904     5.816421         57.132405   \n",
       "\n",
       "     Destination_lat  IsHomeHeading  IsOnOtherTrip  DriverId  \n",
       "361                0              1              0    123456  \n",
       "73                 1              1              1        12  \n",
       "374                1              1              0     12345  \n",
       "155                1              0              1        12  \n",
       "104                0              0              0    123456  \n",
       "..               ...            ...            ...       ...  \n",
       "220                1              1              0        12  \n",
       "176                1              1              0        12  \n",
       "320                0              0              0    123456  \n",
       "153                1              0              1       123  \n",
       "231                0              1              0      1234  \n",
       "\n",
       "[125 rows x 10 columns]"
      ]
     },
     "execution_count": 22,
     "metadata": {},
     "output_type": "execute_result"
    }
   ],
   "source": [
    "test_features"
   ]
  },
  {
   "cell_type": "code",
   "execution_count": 23,
   "metadata": {},
   "outputs": [],
   "source": [
    "features_predict= p.read_csv('/Users/vikakumar/Desktop/test_ml_ola_predict.csv')"
   ]
  },
  {
   "cell_type": "code",
   "execution_count": 2,
   "metadata": {},
   "outputs": [
    {
     "ename": "NameError",
     "evalue": "name 'features_predict' is not defined",
     "output_type": "error",
     "traceback": [
      "\u001b[0;31m---------------------------------------------------------------------------\u001b[0m",
      "\u001b[0;31mNameError\u001b[0m                                 Traceback (most recent call last)",
      "\u001b[0;32m<ipython-input-2-9658ae96e986>\u001b[0m in \u001b[0;36m<module>\u001b[0;34m\u001b[0m\n\u001b[0;32m----> 1\u001b[0;31m \u001b[0mfeatures_predict\u001b[0m\u001b[0;34m.\u001b[0m\u001b[0mto_json\u001b[0m\u001b[0;34m(\u001b[0m\u001b[0;34m'temp.json'\u001b[0m\u001b[0;34m,\u001b[0m \u001b[0morient\u001b[0m\u001b[0;34m=\u001b[0m\u001b[0;34m'records'\u001b[0m\u001b[0;34m,\u001b[0m \u001b[0mlines\u001b[0m\u001b[0;34m=\u001b[0m\u001b[0;32mTrue\u001b[0m\u001b[0;34m)\u001b[0m\u001b[0;34m\u001b[0m\u001b[0;34m\u001b[0m\u001b[0m\n\u001b[0m",
      "\u001b[0;31mNameError\u001b[0m: name 'features_predict' is not defined"
     ]
    }
   ],
   "source": [
    "features_predict.to_json('temp.json', orient='records', lines=True)"
   ]
  },
  {
   "cell_type": "code",
   "execution_count": 24,
   "metadata": {},
   "outputs": [
    {
     "data": {
      "text/plain": [
       "array([2.583, 2.697, 2.51 , 3.075, 2.998])"
      ]
     },
     "execution_count": 24,
     "metadata": {},
     "output_type": "execute_result"
    }
   ],
   "source": [
    "rf.predict(features_predict)"
   ]
  },
  {
   "cell_type": "code",
   "execution_count": 25,
   "metadata": {},
   "outputs": [],
   "source": [
    "import joblib as lib"
   ]
  },
  {
   "cell_type": "code",
   "execution_count": 26,
   "metadata": {},
   "outputs": [
    {
     "data": {
      "text/plain": [
       "['/Users/vikakumar/Desktop/test_model_save.pkl']"
      ]
     },
     "execution_count": 26,
     "metadata": {},
     "output_type": "execute_result"
    }
   ],
   "source": [
    "lib_file = \"/Users/vikakumar/Desktop/test_model_save.pkl\"\n",
    "lib.dump(rf, joblib_file)"
   ]
  }
 ],
 "metadata": {
  "kernelspec": {
   "display_name": "Python 3",
   "language": "python",
   "name": "python3"
  },
  "language_info": {
   "codemirror_mode": {
    "name": "ipython",
    "version": 3
   },
   "file_extension": ".py",
   "mimetype": "text/x-python",
   "name": "python",
   "nbconvert_exporter": "python",
   "pygments_lexer": "ipython3",
   "version": "3.7.4"
  }
 },
 "nbformat": 4,
 "nbformat_minor": 2
}
